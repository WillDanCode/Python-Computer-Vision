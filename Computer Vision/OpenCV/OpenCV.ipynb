{
 "cells": [
  {
   "cell_type": "markdown",
   "metadata": {},
   "source": [
    "<h1 align=\"center\"> Materi OpenCV </h1>"
   ]
  },
  {
   "cell_type": "markdown",
   "metadata": {},
   "source": [
    "## Anggota Kelompok\n",
    "1. Abu Wildan Mucholladin - 165150200111002\n",
    "2. Dika Perdana Sinaga - 165150200111175\n",
    "3. Wahyu Hendro Hartono - 165150200111181"
   ]
  },
  {
   "cell_type": "markdown",
   "metadata": {},
   "source": [
    "## Read, write, & show image\n",
    "---\n",
    "\n",
    "### Read an Image\n",
    "Untuk membaca sebuah gambar, kita dapat menggunakan fungsi <font color=\"blue\"> cv2.imread() </font>. <br>\n",
    "Pada parameter pertama, kita harus mendefinisikan dengan jelas dimana letak gambar yang akan kita baca. <br>\n",
    "Pada parameter kedua, kita dapat mengisikan *flag* / cara untuk membaca gambar. Beberapa *flag* yang dapat kita gunakan:\n",
    "- <font color=\"blue\"> cv2.IMREAD_COLOR </font> : membuat gambar yang dibaca menjadi berwarna (BGR mode), ini adalah *default flag*\n",
    "- <font color=\"blue\"> cv2.IMREAD_GRAYSCALE </font> : membuat gambar yang dibaca menjadi keabuan / *grayscale mode*\n",
    "\n",
    "Lihat kode di bawah ini:"
   ]
  },
  {
   "cell_type": "code",
   "execution_count": 2,
   "metadata": {},
   "outputs": [],
   "source": [
    "import numpy as np\n",
    "import cv2\n",
    "import matplotlib.pyplot as plt\n",
    "\n",
    "# memuat gambar berwarna\n",
    "lenaColour = cv2.imread('img/lena.png')\n",
    "\n",
    "# memuat gambar berwarna dalam grayscale mode\n",
    "lenaGray = cv2.imread('img/lena.png', cv2.IMREAD_GRAYSCALE)"
   ]
  },
  {
   "cell_type": "markdown",
   "metadata": {},
   "source": [
    "### Display an Image\n",
    "Untuk menampilkan sebuah gambar dalam sebuah window, kita dapat menggunakan fungsi <font color=\"blue\"> cv2.imshow() </font>. Window akan otomatis menyesuaikan ukuran dari gambar. <br>\n",
    "Pada parameter pertama, kita isikan sebuah string untuk memberi nama window. <br>\n",
    "Pada parameter kedua, kita isikan variabel gambar"
   ]
  },
  {
   "cell_type": "code",
   "execution_count": null,
   "metadata": {},
   "outputs": [],
   "source": [
    "# menampilkan gambar berwarna\n",
    "cv2.imshow('Lena Warna', lenaColour)\n",
    "\n",
    "# menampilkan gambar grayscale\n",
    "cv2.imshow('Lena Gray', lenaGray)\n",
    "\n",
    "cv2.waitKey(0)\n",
    "cv2.destroyAllWindows()"
   ]
  },
  {
   "cell_type": "markdown",
   "metadata": {},
   "source": [
    "Fungsi <font color=\"blue\"> cv2.waitKey() </font> adalah sebuah fungsi yang akan menunggu *keyboard event* dalam waktu beberapa milisecond. Parameter yang ada di dalam fungsi tersebut adalah waktu *delay*. Jika parameter diisi nilai 0, maka fungsi akan berjalan terus dalam waktu tak terbatas sampai adanya *keyboard event*. Jika parameter diisi sebuah nilai positif (>= 0), maka fungsi akan berjalan sesuai waktu yang ditentukan atau sampai adanya *keyboard event*.\n",
    "\n",
    "Fungsi <font color=\"blue\"> cv2.destroyAllWindows() </font> adalah sebuah fungsi yang akan menghancurkan semua window yang telah kita buat. Namun jika kita ingin menghancurkan window tertentu, kita dapat menggunakan fungsi <font color=\"blue\"> cv2.destroyWindow() </font> dengan parameter nama window yang akan kita hancurkan\n",
    "\n",
    "> Note : <br>\n",
    "Untuk membuat window menjadi resizeable, kita dapat menggunakan fungsi <font color=\"blue\"> cv2.namedWindow() </font>. Parameter pertama diisi nama window, dan parameter kedua diisi *flag*. Secara *default*, window tersebut akan terisi *flag* <font color=\"blue\"> cv2.WINDOW_AUTOSIZE </font>. Jika kita ingin mengubahnya menjadi resizeable, maka kita bisa menggunakan *flag* <font color=\"blue\"> cv2.WINDOW_NORMAL </font>.\n",
    "\n",
    "Lihatlah kode di bawah ini:"
   ]
  },
  {
   "cell_type": "code",
   "execution_count": null,
   "metadata": {},
   "outputs": [],
   "source": [
    "cv2.namedWindow('Lena Gray', cv2.WINDOW_NORMAL)\n",
    "cv2.imshow('Lena Gray', lenaGray)\n",
    "cv2.waitKey(0)\n",
    "cv2.destroyAllWindows()"
   ]
  },
  {
   "cell_type": "markdown",
   "metadata": {},
   "source": [
    "### Write an Image\n",
    "Untuk menyimpan sebuah gambar yang sudah diolah, kita dapat menggunakan fungsi <font color=\"blue\"> cv2.imwrite() </font>. <br>\n",
    "Pada parameter pertama kita isikan sebuah string untuk memberikan nama file gambar beserta ekstensi dan path-nya. <br> \n",
    "Pada parameter kedua kita isikan variabel gambar yang akan kita simpan"
   ]
  },
  {
   "cell_type": "code",
   "execution_count": null,
   "metadata": {},
   "outputs": [],
   "source": [
    "cv2.imwrite('img/lenaGray.png', lenaGray)"
   ]
  },
  {
   "cell_type": "markdown",
   "metadata": {},
   "source": [
    "## Point Processing\n",
    "\n",
    "### Negative"
   ]
  },
  {
   "cell_type": "code",
   "execution_count": null,
   "metadata": {},
   "outputs": [],
   "source": [
    "baboon = cv2.imread('img/baboon.png')\n",
    "neg = cv2.bitwise_not(baboon)\n",
    "\n",
    "cv2.imshow('Baboon', baboon)\n",
    "cv2.imshow('Baboon inverted', neg)\n",
    "\n",
    "cv2.waitKey(0)\n",
    "cv2.destroyAllWindows()"
   ]
  },
  {
   "cell_type": "markdown",
   "metadata": {},
   "source": [
    "## Convolution\n",
    "\n",
    "### Blur\n",
    "\n",
    "Blur dapat dilakukan dengan mengambil nilai rata-rata dari piksel-piksel yang berdekatan"
   ]
  },
  {
   "cell_type": "code",
   "execution_count": null,
   "metadata": {},
   "outputs": [],
   "source": [
    "img = cv2.imread('img/baboon.png')\n",
    "blurFunction = cv2.blur(img,(10,10))\n",
    "\n",
    "kernel = np.ones((10,10)) / 100\n",
    "blurWithKernel = cv2.filter2D(img, -1, kernel)\n",
    "\n",
    "cv2.imshow('Baboon', img)\n",
    "cv2.imshow('Baboon blur function', blurFunction)\n",
    "cv2.imshow('Baboon blur kernel', blurWithKernel)\n",
    "\n",
    "cv2.waitKey(0)\n",
    "cv2.destroyAllWindows()"
   ]
  },
  {
   "cell_type": "markdown",
   "metadata": {},
   "source": [
    "### Sharpening\n",
    "\n",
    "Sharpening dapat dilakukan dengan high pass filter"
   ]
  },
  {
   "cell_type": "code",
   "execution_count": null,
   "metadata": {},
   "outputs": [],
   "source": [
    "kernel = np.array([[-1,-1,-1], [-1,9,-1], [-1,-1,-1]])\n",
    "sharpened = cv2.filter2D(img, -1, kernel)\n",
    "\n",
    "cv2.imshow('Baboon', img)\n",
    "cv2.imshow(\"Baboon sharp\", sharpened)\n",
    "\n",
    "cv2.waitKey(0)\n",
    "cv2.destroyAllWindows()"
   ]
  },
  {
   "cell_type": "markdown",
   "metadata": {},
   "source": [
    "### Edge Detection"
   ]
  },
  {
   "cell_type": "code",
   "execution_count": null,
   "metadata": {},
   "outputs": [],
   "source": [
    "cameraman = cv2.imread('img/cameraman.png')\n",
    "edges = cv2.Canny(cameraman, 100, 100)\n",
    "\n",
    "cv2.imshow('Cameraman', cameraman)\n",
    "cv2.imshow('Cameraman edge', edges)\n",
    "\n",
    "cv2.waitKey(0)\n",
    "cv2.destroyAllWindows()"
   ]
  },
  {
   "cell_type": "markdown",
   "metadata": {},
   "source": [
    "## Resizing Image"
   ]
  },
  {
   "cell_type": "code",
   "execution_count": null,
   "metadata": {},
   "outputs": [],
   "source": [
    "baboon = cv2.imread('img/baboon.png')\n",
    "resized = cv2.resize(baboon, (400, 600))\n",
    "\n",
    "cv2.imshow('Baboon', baboon)\n",
    "cv2.imshow('Baboon resized', resized)\n",
    "\n",
    "cv2.waitKey(0)\n",
    "cv2.destroyAllWindows()"
   ]
  },
  {
   "cell_type": "markdown",
   "metadata": {},
   "source": [
    "## Image Morphological Operations\n",
    "---\n",
    "\n",
    "### Structuring Element\n",
    "Structuring Element (SE) dapat terdiri dari sembarang ukuran sesuai dengan kebutuhan. Nilai dari elemen adalah 0 atau 1, namun dimungkinkan memiliki nilai yang lain (termasuk tidak ada nilainya). Nilai kosong pada SE berarti bebas (*don't care*).\n",
    "\n",
    "Ada beberapa jenis bentuk structure element :\n",
    "1. Bentuk Persegi\n",
    "2. Bentuk Ellips\n",
    "3. Bentuk Cross\n",
    "\n",
    "Untuk menggunakan structure element, kita dapat menggunakan fungsi <font color=\"blue\"> cv2.getStructuringElement() </font>. <br>\n",
    "Pada parameter pertama, kita isikan bentuk structure element yang akan dibuat. <br>\n",
    "Pada parameter kedua, kita isikan ukuran structure element"
   ]
  },
  {
   "cell_type": "code",
   "execution_count": null,
   "metadata": {},
   "outputs": [],
   "source": [
    "# Rectangular Kernel\n",
    "cv2.getStructuringElement(cv2.MORPH_RECT,(5,5))"
   ]
  },
  {
   "cell_type": "code",
   "execution_count": null,
   "metadata": {},
   "outputs": [],
   "source": [
    "# Elliptical Kernel\n",
    "cv2.getStructuringElement(cv2.MORPH_ELLIPSE,(5,5))"
   ]
  },
  {
   "cell_type": "code",
   "execution_count": null,
   "metadata": {},
   "outputs": [],
   "source": [
    "# Cross-shaped Kernel\n",
    "cv2.getStructuringElement(cv2.MORPH_CROSS,(5,5))"
   ]
  },
  {
   "cell_type": "markdown",
   "metadata": {},
   "source": [
    "### Erosion\n",
    "Erosi adalah operasi yang didasarkan pada operasi fit, yaitu operasi konvolusi structure element terhadap sebuah gambar. Operasi tersebut akan mengecek apakah **semua** nilai 1 pada structure element cocok dengan nilai 1 pada input image, jika cocok maka akan menghasilkan output=1, dan jika tidak maka output=0.\n",
    "Tujuan dari erosi adalah untuk mengikis batas-batas objek pada gambar atau bisa juga untuk menghilangkan noise pada gambar"
   ]
  },
  {
   "cell_type": "code",
   "execution_count": null,
   "metadata": {},
   "outputs": [],
   "source": [
    "img = cv2.imread('img/j.png', 0)\n",
    "kernel = cv2.getStructuringElement(cv2.MORPH_RECT,(5,5))\n",
    "erosion = cv2.erode(img, kernel, iterations = 1)\n",
    "\n",
    "cv2.imshow('Asli', img)\n",
    "cv2.imshow('Hasil Erosi', erosion)\n",
    "cv2.waitKey(0)\n",
    "cv2.destroyAllWindows()"
   ]
  },
  {
   "attachments": {
    "j.png": {
     "image/png": "[encoded data removed]"
    },
    "jErosi.png": {
     "image/png": "[encoded data removed]"
    }
   },
   "cell_type": "markdown",
   "metadata": {},
   "source": [
    "Before:![j.png](attachment:j.png) \n",
    "After: ![jErosi.png](attachment:jErosi.png)"
   ]
  },
  {
   "cell_type": "markdown",
   "metadata": {},
   "source": [
    "### Dilation\n",
    "Dilasi adalah operasi yang didasarkan pada operasi hit, yaitu operasi konvolusi structure element terhadap sebuah gambar. Operasi tersebut akan mengecek apakah **ada minimal satu** nilai 1 pada structure element cocok dengan nilai 1 pada input image, jika cocok maka akan menghasilkan output=1, dan jika tidak maka output=0.\n",
    "Tujuan dari dilasi adalah untuk memperluas/mempertebal batas-batas objek pada gambar"
   ]
  },
  {
   "cell_type": "code",
   "execution_count": null,
   "metadata": {},
   "outputs": [],
   "source": [
    "dilation = cv2.dilate(img, kernel, iterations = 1)\n",
    "\n",
    "cv2.imshow('Asli', img)\n",
    "cv2.imshow('Hasil Dilasi', dilation)\n",
    "cv2.waitKey(0)\n",
    "cv2.destroyAllWindows()"
   ]
  },
  {
   "attachments": {
    "j.png": {
     "image/png": "[encoded data removed]"
    },
    "jDilasi.png": {
     "image/png": "[encoded data removed]"
    }
   },
   "cell_type": "markdown",
   "metadata": {},
   "source": [
    "Before: ![j.png](attachment:j.png)\n",
    "After: ![jDilasi.png](attachment:jDilasi.png)"
   ]
  },
  {
   "cell_type": "markdown",
   "metadata": {},
   "source": [
    "### Opening\n",
    "Opening adalah operasi gabungan antara erosi dan dilasi. Pada opening, tahap pertama yang dilakukan adalah erosi terlebih dahulu, kemudian dilakukan dilasi. Opening bersifat idempotent, artinya operasi opening yang diulang-ulang tidak memberikan dampak yang berkelanjutan.\n",
    "Tujuan dari opening adalah menghilangkan object-object kecil tetapi tetap mempertahankan ukuran asli objeknya"
   ]
  },
  {
   "cell_type": "code",
   "execution_count": null,
   "metadata": {},
   "outputs": [],
   "source": [
    "img = cv2.imread('img/jNoise.png', 0)\n",
    "opening = cv2.morphologyEx(img, cv2.MORPH_OPEN, kernel)\n",
    "\n",
    "cv2.imshow('Asli', img)\n",
    "cv2.imshow('Hasil Opening', opening)\n",
    "cv2.waitKey(0)\n",
    "cv2.destroyAllWindows()"
   ]
  },
  {
   "attachments": {
    "jNoise.png": {
     "image/png": "[encoded data removed]"
    },
    "jOpening.png": {
     "image/png": "[encoded data removed]"
    }
   },
   "cell_type": "markdown",
   "metadata": {},
   "source": [
    "Before: ![jNoise.png](attachment:jNoise.png)\n",
    "After: ![jOpening.png](attachment:jOpening.png)"
   ]
  },
  {
   "cell_type": "markdown",
   "metadata": {},
   "source": [
    "### Closing\n",
    "Closing adalah operasi gabungan antara dilasi dan erosi. Pada closing, tahap pertama yang dilakukan adalah dilasi terlebih dahulu, kemudian dilakukan erosi. Closing bersifat idempotent, artinya operasi closing yang diulang-ulang tidak memberikan dampak yang berkelanjutan.\n",
    "Tujuan dari closing adalah mengisi holes tetapi tetap menjaga ukuran asli objeknya"
   ]
  },
  {
   "cell_type": "code",
   "execution_count": null,
   "metadata": {},
   "outputs": [],
   "source": [
    "img = cv2.imread('img/jHoles.png', 0)\n",
    "closing = cv2.morphologyEx(img, cv2.MORPH_CLOSE, kernel)\n",
    "\n",
    "cv2.imshow('Asli', img)\n",
    "cv2.imshow('Hasil Closing', closing)\n",
    "cv2.waitKey(0)\n",
    "cv2.destroyAllWindows()"
   ]
  },
  {
   "attachments": {
    "jClosing.png": {
     "image/png": "[encoded data removed]"
    },
    "jHoles.png": {
     "image/png": "[encoded data removed]"
    }
   },
   "cell_type": "markdown",
   "metadata": {},
   "source": [
    "Before:![jHoles.png](attachment:jHoles.png)\n",
    "After: ![jClosing.png](attachment:jClosing.png)"
   ]
  },
  {
   "cell_type": "markdown",
   "metadata": {},
   "source": [
    "## Read Video File\n",
    "\n",
    "Fungsi VideoCapture berfungsi untuk mengakses video dari file atau langsung dari kamera. Pada fungsi waitKey diberi nilai integer untuk refresh time dalam milisekon. Nilai 25 artinya frame baru akan ditampilkan setiap 25 milisekon.\n",
    "Ketika selesai, fungsi release melepaskan objek VideoCapture kemudian semua frame ditutup dengan fungsi destroyAllWIndows."
   ]
  },
  {
   "cell_type": "code",
   "execution_count": 3,
   "metadata": {},
   "outputs": [],
   "source": [
    "cap = cv2.VideoCapture('mov/rainy_day.mp4')\n",
    "\n",
    "if (cap.isOpened()== False): \n",
    "    print(\"Error opening video stream or file\")\n",
    "\n",
    "while(cap.isOpened()):\n",
    "    ret, frame = cap.read()\n",
    "    if ret == True:\n",
    "        cv2.imshow('Frame', frame)\n",
    "        if cv2.waitKey(25) & 0xFF == ord('q'):\n",
    "            break\n",
    " \n",
    "    else: \n",
    "        break\n",
    "\n",
    "cap.release()\n",
    "cv2.destroyAllWindows()"
   ]
  },
  {
   "cell_type": "code",
   "execution_count": null,
   "metadata": {},
   "outputs": [],
   "source": []
  }
 ],
 "metadata": {
  "kernelspec": {
   "display_name": "Python 3",
   "language": "python",
   "name": "python3"
  },
  "language_info": {
   "codemirror_mode": {
    "name": "ipython",
    "version": 3
   },
   "file_extension": ".py",
   "mimetype": "text/x-python",
   "name": "python",
   "nbconvert_exporter": "python",
   "pygments_lexer": "ipython3",
   "version": "3.7.1"
  }
 },
 "nbformat": 4,
 "nbformat_minor": 2
}
